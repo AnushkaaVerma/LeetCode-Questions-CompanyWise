{
  "nbformat": 4,
  "nbformat_minor": 0,
  "metadata": {
    "colab": {
      "provenance": [],
      "authorship_tag": "ABX9TyND8H3xeBpq/p5rEa04mCHB",
      "include_colab_link": true
    },
    "kernelspec": {
      "name": "python3",
      "display_name": "Python 3"
    },
    "language_info": {
      "name": "python"
    }
  },
  "cells": [
    {
      "cell_type": "markdown",
      "metadata": {
        "id": "view-in-github",
        "colab_type": "text"
      },
      "source": [
        "<a href=\"https://colab.research.google.com/github/AnushkaaVerma/LeetCode-Questions-CompanyWise/blob/master/LANGDETECT.ipynb\" target=\"_parent\"><img src=\"https://colab.research.google.com/assets/colab-badge.svg\" alt=\"Open In Colab\"/></a>"
      ]
    },
    {
      "cell_type": "code",
      "execution_count": 1,
      "metadata": {
        "colab": {
          "base_uri": "https://localhost:8080/"
        },
        "id": "9umP8MulaN09",
        "outputId": "0805f39f-5a26-44b7-d96b-13e784c2c733"
      },
      "outputs": [
        {
          "output_type": "stream",
          "name": "stdout",
          "text": [
            "Collecting langdetect\n",
            "  Downloading langdetect-1.0.9.tar.gz (981 kB)\n",
            "\u001b[2K     \u001b[90m━━━━━━━━━━━━━━━━━━━━━━━━━━━━━━━━━━━━━━━\u001b[0m \u001b[32m981.5/981.5 kB\u001b[0m \u001b[31m8.4 MB/s\u001b[0m eta \u001b[36m0:00:00\u001b[0m\n",
            "\u001b[?25h  Preparing metadata (setup.py) ... \u001b[?25l\u001b[?25hdone\n",
            "Requirement already satisfied: six in /usr/local/lib/python3.11/dist-packages (from langdetect) (1.17.0)\n",
            "Building wheels for collected packages: langdetect\n",
            "  Building wheel for langdetect (setup.py) ... \u001b[?25l\u001b[?25hdone\n",
            "  Created wheel for langdetect: filename=langdetect-1.0.9-py3-none-any.whl size=993223 sha256=615a606a163fbf23951f609bcb87a45ef36b12a31db58dfe4170581aaaf90d8f\n",
            "  Stored in directory: /root/.cache/pip/wheels/0a/f2/b2/e5ca405801e05eb7c8ed5b3b4bcf1fcabcd6272c167640072e\n",
            "Successfully built langdetect\n",
            "Installing collected packages: langdetect\n",
            "Successfully installed langdetect-1.0.9\n"
          ]
        }
      ],
      "source": [
        "pip install langdetect\n"
      ]
    },
    {
      "cell_type": "code",
      "source": [
        "from langdetect import detect, detect_langs\n",
        "\n",
        "# Function to detect language\n",
        "def detect_language(text):\n",
        "    try:\n",
        "        lang = detect(text)\n",
        "        return lang\n",
        "    except Exception as e:\n",
        "        return str(e)\n",
        "\n",
        "# Test samples\n",
        "texts = [\n",
        "    \"Hello, how are you?\",\n",
        "    \"Bonjour, comment ça va ?\",\n",
        "    \"Hola, ¿cómo estás?\",\n",
        "    \"Hallo, wie geht's dir?\",\n",
        "    \"これは日本語です。\",\n",
        "    \"Это по-русски.\"\n",
        "]\n",
        "\n",
        "# Run detection\n",
        "for t in texts:\n",
        "    print(f\"Text: {t}\")\n",
        "    print(f\"Detected Language: {detect_language(t)}\\n\")\n"
      ],
      "metadata": {
        "colab": {
          "base_uri": "https://localhost:8080/"
        },
        "id": "bcqQs9ZKaaGQ",
        "outputId": "157405ee-72ff-4ad6-f1e7-5bb579bf9a17"
      },
      "execution_count": 2,
      "outputs": [
        {
          "output_type": "stream",
          "name": "stdout",
          "text": [
            "Text: Hello, how are you?\n",
            "Detected Language: en\n",
            "\n",
            "Text: Bonjour, comment ça va ?\n",
            "Detected Language: fr\n",
            "\n",
            "Text: Hola, ¿cómo estás?\n",
            "Detected Language: es\n",
            "\n",
            "Text: Hallo, wie geht's dir?\n",
            "Detected Language: af\n",
            "\n",
            "Text: これは日本語です。\n",
            "Detected Language: ja\n",
            "\n",
            "Text: Это по-русски.\n",
            "Detected Language: ru\n",
            "\n"
          ]
        }
      ]
    },
    {
      "cell_type": "code",
      "source": [],
      "metadata": {
        "id": "StyO7QAmalNA"
      },
      "execution_count": null,
      "outputs": []
    }
  ]
}